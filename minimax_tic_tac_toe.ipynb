{
 "cells": [
  {
   "cell_type": "code",
   "execution_count": 21,
   "metadata": {},
   "outputs": [],
   "source": [
    "import numpy as np\n",
    "from math import inf\n",
    "import platform\n",
    "import time\n",
    "from os import system\n",
    "from pprint import pprint"
   ]
  },
  {
   "cell_type": "code",
   "execution_count": 64,
   "metadata": {},
   "outputs": [
    {
     "name": "stdout",
     "output_type": "stream",
     "text": [
      "array([[0, 0, 0],\n",
      "       [0, 0, 0],\n",
      "       [0, 0, 0]])\n"
     ]
    }
   ],
   "source": [
    "HUMAN = -1\n",
    "COMP = +1\n",
    "\n",
    "board = np.zeros((3,3), dtype=np.int)\n",
    "pprint(board)"
   ]
  },
  {
   "cell_type": "code",
   "execution_count": 37,
   "metadata": {},
   "outputs": [],
   "source": [
    "def print_state(state):\n",
    "    \"\"\"\n",
    "    This function prints a state to the screen.\n",
    "    :param state: the state (np.array of size 3X3)\n",
    "    :return: only prints. returns None.\n",
    "    \"\"\"\n",
    "    for row in state:\n",
    "        print(\"|\", end=\"\")\n",
    "        for element in row:\n",
    "            if element==-1:\n",
    "                print(\" o |\", end=\"\")\n",
    "            elif element==1:\n",
    "                print(\" x |\", end=\"\")\n",
    "            else:\n",
    "                print(\"   |\", end=\"\")\n",
    "        print()"
   ]
  },
  {
   "cell_type": "code",
   "execution_count": 63,
   "metadata": {},
   "outputs": [],
   "source": [
    "# # example:\n",
    "# state = np.zeros((3,3), dtype=np.int)\n",
    "# state[1,1] = 1\n",
    "# state[2,2] = -1\n",
    "# state[0,0] = 1\n",
    "# print_state(state.tolist())"
   ]
  },
  {
   "cell_type": "code",
   "execution_count": 68,
   "metadata": {},
   "outputs": [],
   "source": [
    "def evaluate(state):\n",
    "    \"\"\"\n",
    "    This function returns (+1) if COMP won in this state, (-1) if HUMAN won, and (0) if none.\n",
    "    :param state: the state (np.array of size 3X3)\n",
    "    :return: (+1) if COMP won in this state, (-1) if HUMAN won, and (0) if none.\n",
    "    \"\"\"\n",
    "    if wins(state, COMP):\n",
    "        score = +1\n",
    "    elif wins(state, HUMAN):\n",
    "        score = -1\n",
    "    else:\n",
    "        score = 0"
   ]
  },
  {
   "cell_type": "code",
   "execution_count": 69,
   "metadata": {},
   "outputs": [],
   "source": [
    "def wins(state, player):\n",
    "    \"\"\"\n",
    "    This function returns True if player won the game for the given state.\n",
    "    :param state: the state (np.array of size 3X3)\n",
    "    :param player: HUMAN or COMP\n",
    "    :return: True if player won, False if not.\n",
    "    \"\"\"\n",
    "    # if one of the triplets in the following list is all [1,1,1] then COMP wins. if [-1,-1,-1] then HUMAM wins\n",
    "    wins_states = [state[0, :].tolist(), # 1st row  \n",
    "                 state[1, :].tolist(), # 2st row \n",
    "                 state[2, :].tolist(), # 3st row \n",
    "                 state[:, 0].tolist(), # 1st col \n",
    "                 state[:, 1].tolist(), # 2st col \n",
    "                 state[:, 2].tolist(), # 3st col \n",
    "                 [state[0, 0], state[1, 1], state[2, 2]], # 1st diagonal\n",
    "                 [state[2, 0], state[1, 1], state[0, 2]]] # 2st diagonal\n",
    "    \n",
    "    if [player, player, player] in wins_states:\n",
    "        return True # player wins\n",
    "    else:\n",
    "        return False # player doesn't win"
   ]
  },
  {
   "cell_type": "code",
   "execution_count": 70,
   "metadata": {},
   "outputs": [],
   "source": [
    "def game_over(state):\n",
    "    \"\"\"\n",
    "    This function returns True one of the players won the game in the current state.\n",
    "    :param state: the state (np.array of size 3X3)\n",
    "    :return: True if game is won, False if not.\n",
    "    \"\"\"\n",
    "    return wins(state, HUMAN) or wins(state, COMP)"
   ]
  },
  {
   "cell_type": "code",
   "execution_count": 79,
   "metadata": {},
   "outputs": [],
   "source": [
    "def empty_locations(state):\n",
    "    \"\"\"\n",
    "    This function returns a list with all empty locations (x,y) on board for a given state.\n",
    "    :param state: the state (np.array of size 3X3)\n",
    "    :return: list of (x,y) tuples of the empty locations.\n",
    "    \"\"\"\n",
    "    locs = list(zip(*np.where(state==0)))\n",
    "    return locs"
   ]
  },
  {
   "cell_type": "code",
   "execution_count": 80,
   "metadata": {},
   "outputs": [],
   "source": [
    "def valid_move(x,y):\n",
    "    \"\"\"\n",
    "    This function returns True if location (x,y) is empty.\n",
    "    - uses the global \"board\" variable.\n",
    "    :param x: row index\n",
    "    :param y: col index\n",
    "    :return: True if (x,y) loc is empty. False otherwise.\n",
    "    \"\"\"\n",
    "    return board[x,y]==0"
   ]
  },
  {
   "cell_type": "code",
   "execution_count": 84,
   "metadata": {},
   "outputs": [],
   "source": [
    "def set_move(x, y, player):\n",
    "    \"\"\"\n",
    "    This function changes the state of an empty location (x,y) on board to player (+1 for COMP, -1 for HUMAN).\n",
    "    - uses the global \"board\" variable.\n",
    "    :param x: row index\n",
    "    :param y: col index\n",
    "    :return: if valid_state: changes board state and returns True. if not valid: returns False\n",
    "    \"\"\" \n",
    "    if valid_move(x,y):\n",
    "        board[x,y] = player\n",
    "        return True\n",
    "    else:\n",
    "        return False"
   ]
  },
  {
   "cell_type": "code",
   "execution_count": 105,
   "metadata": {},
   "outputs": [],
   "source": [
    "def minimax(state, depth, player):\n",
    "    \"\"\"\n",
    "    This is the minimax algorithm. it unfolds (recursively) all the tree from this state down, \n",
    "    and finds the best location for the next move according to the minimax algorithm.\n",
    "    The stop condition of the recursivityis if one of the players wins, or if the depth is 0 (no more plays left to play). \n",
    "    :param state: the state (np.array of size 3X3)\n",
    "    :param depth: how many layers are left to go down. in the initial state, it's 9, and if the board is full - it is 0.\n",
    "    :param player: HUMAN or COMP\n",
    "    :return: best, which correspond to the best move for playe from the current state. best = [x, y, score]\n",
    "    \"\"\" \n",
    "    if player==COMP:\n",
    "        best = [-1, -1, -inf] # best should include the best move after the for-loop later. in the form of [x, y, score]\n",
    "                              # we initiate it with [-1, -1] for no location, and -inf so that the first outcome (score) will override it.\n",
    "    else: # player==HUMAN:\n",
    "        best = [-1, -1, +inf] # +inf so that the first outcome (score) will override it.\n",
    "    \n",
    "    if depth==0 or game_over(state):\n",
    "        score = evaluate(state) # returns (+1) if COMP wins, (-1) if HUMAN wins, (0) elsewhere.\n",
    "        return [-1, -1, score]\n",
    "    \n",
    "    for loc in empty_locations(state):\n",
    "        (x,y) = loc\n",
    "        state[x,y] = player # we'll change it back after calculating the minimax for this location. don't worry...\n",
    "        score = minimax(state, depth-1, -player) # run minimax for the (state, player) as if the current move was (x,y)\n",
    "        state[x,y] = 0\n",
    "        score = [x, y, score[2]]\n",
    "        \n",
    "        if player==COMP: # player==COMP, max move\n",
    "            if score[2] > best[2]:\n",
    "                best = score\n",
    "        else: # player==HUMAN, min move\n",
    "            if score[2] < best[2]:\n",
    "                best = score\n",
    "        \n",
    "    return best"
   ]
  },
  {
   "cell_type": "code",
   "execution_count": 106,
   "metadata": {},
   "outputs": [],
   "source": [
    "def clean():\n",
    "    \"\"\"\n",
    "    Clears the console.\n",
    "    \"\"\"\n",
    "    os_name = platform.system().lower() # returns o/s name in lower case. e.g., 'windows', 'linux', etc.\n",
    "    if 'windows' in os_name:\n",
    "        system('cls')\n",
    "    else:\n",
    "        system('clear')"
   ]
  },
  {
   "cell_type": "code",
   "execution_count": null,
   "metadata": {},
   "outputs": [],
   "source": [
    "def render(state, c_choice, h_choice):\n",
    "    \"\"\"\n",
    "    Prints the board on console\n",
    "    \"\"\""
   ]
  },
  {
   "cell_type": "code",
   "execution_count": null,
   "metadata": {},
   "outputs": [],
   "source": []
  },
  {
   "cell_type": "code",
   "execution_count": null,
   "metadata": {},
   "outputs": [],
   "source": []
  },
  {
   "cell_type": "code",
   "execution_count": null,
   "metadata": {},
   "outputs": [],
   "source": []
  },
  {
   "cell_type": "code",
   "execution_count": null,
   "metadata": {},
   "outputs": [],
   "source": []
  },
  {
   "cell_type": "code",
   "execution_count": null,
   "metadata": {},
   "outputs": [],
   "source": []
  },
  {
   "cell_type": "code",
   "execution_count": 59,
   "metadata": {},
   "outputs": [
    {
     "data": {
      "text/plain": [
       "array([[0, 0, 0],\n",
       "       [0, 0, 0],\n",
       "       [1, 1, 0]])"
      ]
     },
     "execution_count": 59,
     "metadata": {},
     "output_type": "execute_result"
    }
   ],
   "source": [
    "state = board.copy()\n",
    "state[2, :] = np.array([1,1,1])\n",
    "state[2, 2] = 0\n",
    "state"
   ]
  },
  {
   "cell_type": "code",
   "execution_count": 83,
   "metadata": {},
   "outputs": [
    {
     "name": "stdout",
     "output_type": "stream",
     "text": [
      "|   |   |   |\n",
      "|   |   |   |\n",
      "|   |   |   |\n"
     ]
    },
    {
     "data": {
      "text/plain": [
       "True"
      ]
     },
     "execution_count": 83,
     "metadata": {},
     "output_type": "execute_result"
    }
   ],
   "source": [
    "print_state(board)\n",
    "valid_move(2,2)"
   ]
  },
  {
   "cell_type": "code",
   "execution_count": 101,
   "metadata": {},
   "outputs": [],
   "source": [
    "a = [[1,2,3]]"
   ]
  },
  {
   "cell_type": "code",
   "execution_count": 102,
   "metadata": {},
   "outputs": [],
   "source": [
    "def f(x):\n",
    "    x[0][2] = 10"
   ]
  },
  {
   "cell_type": "code",
   "execution_count": 103,
   "metadata": {},
   "outputs": [],
   "source": [
    "f(a)"
   ]
  },
  {
   "cell_type": "code",
   "execution_count": 104,
   "metadata": {},
   "outputs": [
    {
     "data": {
      "text/plain": [
       "[[1, 2, 10]]"
      ]
     },
     "execution_count": 104,
     "metadata": {},
     "output_type": "execute_result"
    }
   ],
   "source": [
    "a"
   ]
  },
  {
   "cell_type": "code",
   "execution_count": null,
   "metadata": {},
   "outputs": [],
   "source": []
  }
 ],
 "metadata": {
  "kernelspec": {
   "display_name": "tf36_with_xgb_gensim",
   "language": "python",
   "name": "tf36_with_xgb_gensim"
  },
  "language_info": {
   "codemirror_mode": {
    "name": "ipython",
    "version": 3
   },
   "file_extension": ".py",
   "mimetype": "text/x-python",
   "name": "python",
   "nbconvert_exporter": "python",
   "pygments_lexer": "ipython3",
   "version": "3.6.4"
  }
 },
 "nbformat": 4,
 "nbformat_minor": 2
}
